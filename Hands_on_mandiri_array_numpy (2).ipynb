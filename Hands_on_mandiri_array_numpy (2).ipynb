{
  "cells": [
    {
      "cell_type": "markdown",
      "metadata": {
        "id": "-IycjpxksDw7"
      },
      "source": [
        "# TUGAS\n",
        "## Pengenalan Array dengan Numpy\n",
        "\n",
        "Kelompok\n",
        "1. Surahmat\n",
        "2. M. Farras\n",
        "3. Azmi\n",
        "4. Ryan F\n",
        "5. Hirzan\n",
        "\n",
        "\n",
        "\n"
      ]
    },
    {
      "cell_type": "code",
      "execution_count": 1,
      "metadata": {
        "scrolled": true,
        "id": "teOSNgkisDxD",
        "colab": {
          "base_uri": "https://localhost:8080/"
        },
        "outputId": "0da902ca-8706-4180-de1a-8244dc7b1c64"
      },
      "outputs": [
        {
          "output_type": "stream",
          "name": "stdout",
          "text": [
            "Matriks arr:\n",
            "[[1 2 3]\n",
            " [5 6 7]]\n",
            "shape arr: (2, 3)\n",
            "Tipe data arr: int64\n"
          ]
        }
      ],
      "source": [
        "# import libraries\n",
        "import numpy as np\n",
        "\n",
        "# buat matriks (arr) shape 2x3 dengan tipe data integer 64\n",
        "arr = np.array ([[1,2,3],\n",
        "                 [5,6,7]],\n",
        "                dtype=np.int64)\n",
        "# [[ 1  2  3 ]\n",
        "#  [ 5  6  7 ]]\n",
        "\n",
        "# print arr\n",
        "print(\"Matriks arr:\")\n",
        "print(arr)\n",
        "\n",
        "# print shape arr\n",
        "print(\"shape arr:\", arr.shape)\n",
        "\n",
        "# print tipe data arr\n",
        "print(\"Tipe data arr:\", arr.dtype)\n"
      ]
    },
    {
      "cell_type": "code",
      "source": [
        "# buat matriks (arr_rdm) shape 2x3 dengan tipe data integer 64\n",
        "import numpy as np\n",
        "\n",
        "# nilai elemennya random\n",
        "arr_rdm = np.random.randint(low = 0, high = 20, size=(2,3), dtype = np.int64)\n",
        "\n",
        "# print arr_rdm\n",
        "print(\"Matriks arr_rdm\")\n",
        "print(arr_rdm)\n",
        "\n",
        "# print shape arr_rdm\n",
        "print(\"Shape arr_rdm\", arr_rdm.shape)\n",
        "\n",
        "# print tipe data arr_rdm\n",
        "print(\"Tipe data arr_rdm:\", arr_rdm.dtype)"
      ],
      "metadata": {
        "id": "XQu2qotARqrU",
        "colab": {
          "base_uri": "https://localhost:8080/"
        },
        "outputId": "362b7adc-b168-4f50-d8be-7796bd50a16b"
      },
      "execution_count": 2,
      "outputs": [
        {
          "output_type": "stream",
          "name": "stdout",
          "text": [
            "Matriks arr_rdm\n",
            "[[17  2 18]\n",
            " [10 16 16]]\n",
            "Shape arr_rdm (2, 3)\n",
            "Tipe data arr_rdm: int64\n"
          ]
        }
      ]
    },
    {
      "cell_type": "markdown",
      "source": [
        "# Aritmatika Dasar dengan Numpy"
      ],
      "metadata": {
        "id": "ibSu8dw4TCE9"
      }
    },
    {
      "cell_type": "code",
      "source": [
        "# operasi penjumlahan arr dan arr_rdm\n",
        "addition_result = arr +arr_rdm\n",
        "print(\"Penjumlah matriks arr dan matriks arr_rdm:\")\n",
        "print(addition_result)\n",
        "\n",
        "# operasi pengurangan arr dan arr_rdm\n",
        "subtraction_result = arr - arr_rdm\n",
        "print (\"Pengurangan matriks arr dan matriks arr_rdm:\")\n",
        "print(subtraction_result)\n",
        "\n",
        "# operasi perpangkatan dua arr_rdm\n",
        "power_result = arr_rdm **2\n",
        "print(\"Perpangkatan arr_rdm:\")\n",
        "print(power_result)\n",
        "\n",
        "# operasi perkalian elemen-wise arr dan arr_rdm\n",
        "elementwise_mult_result = arr * arr_rdm\n",
        "print (\"operasi perkalian elemen wise arr & arr_rdm\")\n",
        "print(elementwise_mult_result)\n",
        "\n",
        "# Transpose matriks arr_rdm\n",
        "transposed_arr_rdm=arr_rdm.T\n",
        "print (\"Transpose matriks arr_rdm\")\n",
        "print (transposed_arr_rdm)\n",
        "\n",
        "# operasi perkalian matriks arr dan arr_rdm\n",
        "\n"
      ],
      "metadata": {
        "id": "2gFgxZ6BSlr-",
        "colab": {
          "base_uri": "https://localhost:8080/"
        },
        "outputId": "1885bff5-fcf9-49f5-84cf-3a63dfa126ca"
      },
      "execution_count": 3,
      "outputs": [
        {
          "output_type": "stream",
          "name": "stdout",
          "text": [
            "Penjumlah matriks arr dan matriks arr_rdm:\n",
            "[[18  4 21]\n",
            " [15 22 23]]\n",
            "Pengurangan matriks arr dan matriks arr_rdm:\n",
            "[[-16   0 -15]\n",
            " [ -5 -10  -9]]\n",
            "Perpangkatan arr_rdm:\n",
            "[[289   4 324]\n",
            " [100 256 256]]\n",
            "operasi perkalian elemen wise arr & arr_rdm\n",
            "[[ 17   4  54]\n",
            " [ 50  96 112]]\n",
            "Transpose matriks arr_rdm\n",
            "[[17 10]\n",
            " [ 2 16]\n",
            " [18 16]]\n"
          ]
        }
      ]
    },
    {
      "cell_type": "code",
      "source": [
        "# print nilai rata-rata arr\n",
        "mean_all = np.mean(arr)\n",
        "print(mean_all)\n",
        "\n",
        "# print nilai rata-rata per baris arr\n",
        "mean_pear_row = np.mean (arr, axis = 1)\n",
        "print (mean_pear_row)\n",
        "\n",
        "# print total nilai seluruh elemen matriks arr\n",
        "total_sum = np.sum(arr)\n",
        "print(total_sum)\n",
        "\n",
        "# print nilai maximal per kolom matriks arr\n",
        "maxper_colum = np.max(arr, axis=0)\n",
        "print(maxper_colum)"
      ],
      "metadata": {
        "id": "QK1uxmhmT7tj",
        "colab": {
          "base_uri": "https://localhost:8080/"
        },
        "outputId": "6a92bd33-3c4c-4751-862f-3146c9583ad5"
      },
      "execution_count": 4,
      "outputs": [
        {
          "output_type": "stream",
          "name": "stdout",
          "text": [
            "4.0\n",
            "[2. 6.]\n",
            "24\n",
            "[5 6 7]\n"
          ]
        }
      ]
    },
    {
      "cell_type": "markdown",
      "source": [
        "# Fitur pada Numpy"
      ],
      "metadata": {
        "id": "kHgUabu9V2AJ"
      }
    },
    {
      "cell_type": "code",
      "source": [
        "# buat array arrg dengan nilai range 1-20\n",
        "arrg = np.arange(1,21)\n",
        "\n",
        "# print arrg\n",
        "print(\"Array arg:\", arrg)\n",
        "\n",
        "# print nilai arrg index 5\n",
        "print(\"Nliai arrg pada indeks 5:\", arrg[5])\n",
        "\n",
        "# print nilai arrg untuk 3 elemen dari terakhir\n",
        "print(\"3 elemen dari terakhir arrg:\", arrg[-3:])\n",
        "\n",
        "# print nilai arrg 3 sampai 6\n",
        "print(\"Nilai arrg dari indeks 3 sampai 6:\", arrg[3:7])"
      ],
      "metadata": {
        "id": "HxVt2zc1UdJD",
        "colab": {
          "base_uri": "https://localhost:8080/"
        },
        "outputId": "615eb337-fdd9-46cb-a6ed-7af01a399364"
      },
      "execution_count": 5,
      "outputs": [
        {
          "output_type": "stream",
          "name": "stdout",
          "text": [
            "Array arg: [ 1  2  3  4  5  6  7  8  9 10 11 12 13 14 15 16 17 18 19 20]\n",
            "Nliai arrg pada indeks 5: 6\n",
            "3 elemen dari terakhir arrg: [18 19 20]\n",
            "Nilai arrg dari indeks 3 sampai 6: [4 5 6 7]\n"
          ]
        }
      ]
    },
    {
      "cell_type": "code",
      "source": [
        "# print matriks arr\n",
        "print(arr)\n",
        "\n",
        "# print slice matriks arr dengan output\n",
        "slice_arr = arr[0:3, 1:3]\n",
        "print(\"Slice matriks arr:\")\n",
        "print(slice_arr)\n",
        "## [[ 2  3 ]\n",
        "##  [ 6  7 ]]\n",
        "\n",
        "# print slice matriks arr dengan output\n",
        "slice_arr = arr[:, 2:3]\n",
        "print(\"Slice matriks arr:\")\n",
        "print(slice_arr)\n",
        "## [[ 3 ]\n",
        "##  [ 7 ]]"
      ],
      "metadata": {
        "id": "2mIKvlUyVR00",
        "colab": {
          "base_uri": "https://localhost:8080/"
        },
        "outputId": "3e362828-2ce5-4e07-fa36-41e1159dcef1"
      },
      "execution_count": 6,
      "outputs": [
        {
          "output_type": "stream",
          "name": "stdout",
          "text": [
            "[[1 2 3]\n",
            " [5 6 7]]\n",
            "Slice matriks arr:\n",
            "[[2 3]\n",
            " [6 7]]\n",
            "Slice matriks arr:\n",
            "[[3]\n",
            " [7]]\n"
          ]
        }
      ]
    },
    {
      "cell_type": "code",
      "source": [
        "# buat matriks mtx_rdm ukuran 3x4 dengan tipe data integer, isi elemennya random\n",
        "mtx_rdm = np.random.randint(low=0, high=100, size=(3, 4), dtype=np.int64)\n",
        "\n",
        "# print mtx_rdm shape\n",
        "print(\"Bentuk awal mtx_rdm:\", mtx_rdm.shape)\n",
        "\n",
        "# ubah shape mtx_rdm menjadi satu dimensi\n",
        "mtx_rdm_flat = mtx_rdm.flatten()\n",
        "\n",
        "# ubah shape mtx_rdm menjadi 6x2\n",
        "mtx_rdm_reshaped = mtx_rdm.reshape(6, 2)\n",
        "print(\"Bentuk 6x2 mtx_rdm:\", mtx_rdm_reshaped.shape)"
      ],
      "metadata": {
        "id": "tlJfHEnRV57y",
        "colab": {
          "base_uri": "https://localhost:8080/"
        },
        "outputId": "b90460b7-fd5f-4724-d22e-1e55cc88eea9"
      },
      "execution_count": 8,
      "outputs": [
        {
          "output_type": "stream",
          "name": "stdout",
          "text": [
            "Bentuk awal mtx_rdm: (3, 4)\n",
            "Bentuk 6x2 mtx_rdm: (6, 2)\n"
          ]
        }
      ]
    }
  ],
  "metadata": {
    "anaconda-cloud": {},
    "kernelspec": {
      "display_name": "Python [Root]",
      "language": "python",
      "name": "Python [Root]"
    },
    "language_info": {
      "codemirror_mode": {
        "name": "ipython",
        "version": 3
      },
      "file_extension": ".py",
      "mimetype": "text/x-python",
      "name": "python",
      "nbconvert_exporter": "python",
      "pygments_lexer": "ipython3",
      "version": "3.5.2"
    },
    "colab": {
      "provenance": []
    }
  },
  "nbformat": 4,
  "nbformat_minor": 0
}