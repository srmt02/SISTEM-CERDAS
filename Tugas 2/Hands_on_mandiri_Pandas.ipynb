{
  "cells": [
    {
      "cell_type": "markdown",
      "metadata": {
        "id": "-IycjpxksDw7"
      },
      "source": [
        "# TUGAS\n",
        "# Pengenalan Dasar Library Pandas\n",
        "\n",
        "Kelompok\n",
        "\n",
        "1. Azmi\n",
        "\n",
        "2. Farras\n",
        "\n",
        "3. Hirzan\n",
        "\n",
        "4. Ryan\n",
        "\n",
        "5. Surahmat\n",
        "\n",
        "\n"
      ]
    },
    {
      "cell_type": "code",
      "execution_count": null,
      "metadata": {
        "scrolled": true,
        "id": "teOSNgkisDxD"
      },
      "outputs": [],
      "source": [
        "# import libraries\n",
        "import pandas as pd"
      ]
    },
    {
      "cell_type": "code",
      "source": [
        "# Membuat array \"df\" satu dimensi dengan Pandas\n",
        "# nilainya [1,3,4,5]\n",
        "df = pd.Series([1, 3, 4, 5])\n",
        "\n",
        "# Membuat dataframe dengan nilai berikut:\n",
        "# 'Nama' : ['Andi', 'Budi', 'Dodo', 'Ema', 'Kari']\n",
        "# 'Nilai' : [80, 20, 90, 40, 55]\n",
        "# 'Kelas' : ['3B', '3A', '3B', '3B', '3A']\n",
        "data = {\n",
        "    'Nama': ['Andi', 'Budi', 'Dodo', 'Ema', 'Kari'],\n",
        "    'Nilai': [80, 20, 90, 40, 55],\n",
        "    'Kelas': ['3B', '3A', '3B', '3B', '3A']\n",
        "}\n",
        "df_dataframe = pd.DataFrame(data)\n",
        "\n",
        "# Print seluruh baris pada kolom Nama\n",
        "print(\"Seluruh baris pada kolom Nama:\")\n",
        "print(df_dataframe['Nama'])\n",
        "\n",
        "# Sortir data berdasarkan Nilai tertinggi ke Nilai terendah\n",
        "df_dataframe_sorted = df_dataframe.sort_values(by='Nilai', ascending=False)\n",
        "\n",
        "print(\"\\nDataframe setelah diurutkan berdasarkan Nilai tertinggi:\")\n",
        "print(df_dataframe_sorted)"
      ],
      "metadata": {
        "id": "_XDnf7dDkG3L",
        "colab": {
          "base_uri": "https://localhost:8080/"
        },
        "outputId": "c3835fab-fc41-44b0-a51b-4ffc0bbc6d8b"
      },
      "execution_count": null,
      "outputs": [
        {
          "output_type": "stream",
          "name": "stdout",
          "text": [
            "Seluruh baris pada kolom Nama:\n",
            "0    Andi\n",
            "1    Budi\n",
            "2    Dodo\n",
            "3     Ema\n",
            "4    Kari\n",
            "Name: Nama, dtype: object\n",
            "\n",
            "Dataframe setelah diurutkan berdasarkan Nilai tertinggi:\n",
            "   Nama  Nilai Kelas\n",
            "2  Dodo     90    3B\n",
            "0  Andi     80    3B\n",
            "4  Kari     55    3A\n",
            "3   Ema     40    3B\n",
            "1  Budi     20    3A\n"
          ]
        }
      ]
    },
    {
      "cell_type": "markdown",
      "source": [
        "# Bermain dengan Real Data\n",
        "1. Download data dari link berikut: https://www.kaggle.com/datasets/ruchi798/data-science-job-salaries/\n",
        "\n",
        "2. Save ds_salaries.csv pada Google Drive\n",
        "\n"
      ],
      "metadata": {
        "id": "cXMO0mO3kKTW"
      }
    },
    {
      "cell_type": "code",
      "source": [
        "# load data ds_salaries.csv dengan nama variabel \"df\"\n",
        "df = pd.read_csv('ds_salaries.csv')"
      ],
      "metadata": {
        "id": "XQu2qotARqrU"
      },
      "execution_count": 14,
      "outputs": []
    },
    {
      "cell_type": "code",
      "source": [
        "# Print 5 baris teratas\n",
        "print(\"5 Baris Teratas:\")\n",
        "print(df.head())\n",
        "\n",
        "# print 5 baris terakhir\n",
        "print(\"\\n5 Baris Terakhir:\")\n",
        "print(df.tail())"
      ],
      "metadata": {
        "id": "JMYDfC6j7GL9",
        "colab": {
          "base_uri": "https://localhost:8080/"
        },
        "outputId": "caa4f2be-77a8-4d73-ab3b-672d5bc3c21e"
      },
      "execution_count": 15,
      "outputs": [
        {
          "output_type": "stream",
          "name": "stdout",
          "text": [
            "5 Baris Teratas:\n",
            "   Unnamed: 0  work_year experience_level employment_type  \\\n",
            "0           0       2020               MI              FT   \n",
            "1           1       2020               SE              FT   \n",
            "2           2       2020               SE              FT   \n",
            "3           3       2020               MI              FT   \n",
            "4           4       2020               SE              FT   \n",
            "\n",
            "                    job_title  salary salary_currency  salary_in_usd  \\\n",
            "0              Data Scientist   70000             EUR          79833   \n",
            "1  Machine Learning Scientist  260000             USD         260000   \n",
            "2           Big Data Engineer   85000             GBP         109024   \n",
            "3        Product Data Analyst   20000             USD          20000   \n",
            "4   Machine Learning Engineer  150000             USD         150000   \n",
            "\n",
            "  employee_residence  remote_ratio company_location company_size  \n",
            "0                 DE             0               DE            L  \n",
            "1                 JP             0               JP            S  \n",
            "2                 GB            50               GB            M  \n",
            "3                 HN             0               HN            S  \n",
            "4                 US            50               US            L  \n",
            "\n",
            "5 Baris Terakhir:\n",
            "     Unnamed: 0  work_year experience_level employment_type      job_title  \\\n",
            "602         602       2022               SE              FT  Data Engineer   \n",
            "603         603       2022               SE              FT  Data Engineer   \n",
            "604         604       2022               SE              FT   Data Analyst   \n",
            "605         605       2022               SE              FT   Data Analyst   \n",
            "606         606       2022               MI              FT   AI Scientist   \n",
            "\n",
            "     salary salary_currency  salary_in_usd employee_residence  remote_ratio  \\\n",
            "602  154000             USD         154000                 US           100   \n",
            "603  126000             USD         126000                 US           100   \n",
            "604  129000             USD         129000                 US             0   \n",
            "605  150000             USD         150000                 US           100   \n",
            "606  200000             USD         200000                 IN           100   \n",
            "\n",
            "    company_location company_size  \n",
            "602               US            M  \n",
            "603               US            M  \n",
            "604               US            M  \n",
            "605               US            M  \n",
            "606               US            L  \n"
          ]
        }
      ]
    },
    {
      "cell_type": "code",
      "source": [
        "# Print nama kolom\n",
        "print(\"Nama Kolom:\")\n",
        "print(df.columns)"
      ],
      "metadata": {
        "id": "Y-6-tv-e7lNx",
        "colab": {
          "base_uri": "https://localhost:8080/"
        },
        "outputId": "a2d63300-7704-4837-e3bc-d2bf8b3cdf9e"
      },
      "execution_count": 16,
      "outputs": [
        {
          "output_type": "stream",
          "name": "stdout",
          "text": [
            "Nama Kolom:\n",
            "Index(['Unnamed: 0', 'work_year', 'experience_level', 'employment_type',\n",
            "       'job_title', 'salary', 'salary_currency', 'salary_in_usd',\n",
            "       'employee_residence', 'remote_ratio', 'company_location',\n",
            "       'company_size'],\n",
            "      dtype='object')\n"
          ]
        }
      ]
    },
    {
      "cell_type": "code",
      "source": [
        "# Tampilkan data baris ke 5-10 pada\n",
        "print(\"Data dari Baris ke-5 hingga ke-10:\")\n",
        "print(df.iloc[4:10])\n",
        "\n",
        "# Tampilkan data baris ke 5-10 pada kolom job_title dan company_location\n",
        "selected_columns = ['job_title', 'company_location']\n",
        "print(\"Data dari Baris ke-5 hingga ke-10 pada Kolom job_title dan company_location:\")\n",
        "print(df.loc[4:9, selected_columns])"
      ],
      "metadata": {
        "id": "AQ8Q9LszfAaJ",
        "colab": {
          "base_uri": "https://localhost:8080/"
        },
        "outputId": "dad57d0c-0cf0-45e6-f15f-72e19b87c8eb"
      },
      "execution_count": 17,
      "outputs": [
        {
          "output_type": "stream",
          "name": "stdout",
          "text": [
            "Data dari Baris ke-5 hingga ke-10:\n",
            "   Unnamed: 0  work_year experience_level employment_type  \\\n",
            "4           4       2020               SE              FT   \n",
            "5           5       2020               EN              FT   \n",
            "6           6       2020               SE              FT   \n",
            "7           7       2020               MI              FT   \n",
            "8           8       2020               MI              FT   \n",
            "9           9       2020               SE              FT   \n",
            "\n",
            "                   job_title    salary salary_currency  salary_in_usd  \\\n",
            "4  Machine Learning Engineer    150000             USD         150000   \n",
            "5               Data Analyst     72000             USD          72000   \n",
            "6        Lead Data Scientist    190000             USD         190000   \n",
            "7             Data Scientist  11000000             HUF          35735   \n",
            "8      Business Data Analyst    135000             USD         135000   \n",
            "9         Lead Data Engineer    125000             USD         125000   \n",
            "\n",
            "  employee_residence  remote_ratio company_location company_size  \n",
            "4                 US            50               US            L  \n",
            "5                 US           100               US            L  \n",
            "6                 US           100               US            S  \n",
            "7                 HU            50               HU            L  \n",
            "8                 US           100               US            L  \n",
            "9                 NZ            50               NZ            S  \n",
            "Data dari Baris ke-5 hingga ke-10 pada Kolom job_title dan company_location:\n",
            "                   job_title company_location\n",
            "4  Machine Learning Engineer               US\n",
            "5               Data Analyst               US\n",
            "6        Lead Data Scientist               US\n",
            "7             Data Scientist               HU\n",
            "8      Business Data Analyst               US\n",
            "9         Lead Data Engineer               NZ\n"
          ]
        }
      ]
    },
    {
      "cell_type": "code",
      "source": [
        "# Hitung rata-rata salary_in_usd\n",
        "print(f\"Rata-rata Salary in USD: {average_salary}\")"
      ],
      "metadata": {
        "id": "gspwHMi6fWrA",
        "colab": {
          "base_uri": "https://localhost:8080/",
          "height": 193
        },
        "outputId": "812ee6f9-aeca-423d-e708-cb6a5be0b651"
      },
      "execution_count": 24,
      "outputs": [
        {
          "output_type": "error",
          "ename": "NameError",
          "evalue": "ignored",
          "traceback": [
            "\u001b[0;31m---------------------------------------------------------------------------\u001b[0m",
            "\u001b[0;31mNameError\u001b[0m                                 Traceback (most recent call last)",
            "\u001b[0;32m<ipython-input-24-f1fe03d99448>\u001b[0m in \u001b[0;36m<cell line: 2>\u001b[0;34m()\u001b[0m\n\u001b[1;32m      1\u001b[0m \u001b[0;31m# Hitung rata-rata salary_in_usd\u001b[0m\u001b[0;34m\u001b[0m\u001b[0;34m\u001b[0m\u001b[0m\n\u001b[0;32m----> 2\u001b[0;31m \u001b[0mprint\u001b[0m\u001b[0;34m(\u001b[0m\u001b[0;34mf\"Rata-rata Salary in USD: {average_salary}\"\u001b[0m\u001b[0;34m)\u001b[0m\u001b[0;34m\u001b[0m\u001b[0;34m\u001b[0m\u001b[0m\n\u001b[0m",
            "\u001b[0;31mNameError\u001b[0m: name 'average_salary' is not defined"
          ]
        }
      ]
    },
    {
      "cell_type": "code",
      "source": [
        "# Simpan data baris ke 5-20 ke bentuk .csv dengan nama \"sparse.csv\"\n",
        "selected_rows = df.loc[4:19]\n",
        "selected_rows.to_csv('sparse.csv', index=False)\n"
      ],
      "metadata": {
        "id": "dYsb7C9yfktj"
      },
      "execution_count": 25,
      "outputs": []
    }
  ],
  "metadata": {
    "anaconda-cloud": {},
    "kernelspec": {
      "display_name": "Python [Root]",
      "language": "python",
      "name": "Python [Root]"
    },
    "language_info": {
      "codemirror_mode": {
        "name": "ipython",
        "version": 3
      },
      "file_extension": ".py",
      "mimetype": "text/x-python",
      "name": "python",
      "nbconvert_exporter": "python",
      "pygments_lexer": "ipython3",
      "version": "3.5.2"
    },
    "colab": {
      "provenance": []
    }
  },
  "nbformat": 4,
  "nbformat_minor": 0
}