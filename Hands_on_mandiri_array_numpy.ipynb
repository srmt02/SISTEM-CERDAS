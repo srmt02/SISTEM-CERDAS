{
  "cells": [
    {
      "cell_type": "markdown",
      "metadata": {
        "id": "-IycjpxksDw7"
      },
      "source": [
        "# TUGAS\n",
        "## Pengenalan Array dengan Numpy\n",
        "\n",
        "Kelompok\n",
        "1. Surahmat\n",
        "2. M. Farras\n",
        "3. Azmi\n",
        "4. Hirzan\n",
        "5. Ryan F\n",
        "\n",
        "\n"
      ]
    },
    {
      "cell_type": "code",
      "execution_count": null,
      "metadata": {
        "scrolled": true,
        "id": "teOSNgkisDxD"
      },
      "outputs": [],
      "source": [
        "# import libraries\n",
        "\n",
        "# buat matriks (arr) shape 2x3 dengan tipe data integer 64\n",
        "# [[ 1  2  3 ]\n",
        "#  [ 5  6  7 ]]\n",
        "\n",
        "# print arr\n",
        "# print shape arr\n",
        "# print tipe data arr"
      ]
    },
    {
      "cell_type": "code",
      "source": [
        "# buat matriks (arr_rdm) shape 2x3 dengan tipe data integer 64\n",
        "# nilai elemennya random\n",
        "\n",
        "# print arr_rdm\n",
        "# print shape arr_rdm\n",
        "# print tipe data arr_rdm"
      ],
      "metadata": {
        "id": "XQu2qotARqrU"
      },
      "execution_count": null,
      "outputs": []
    },
    {
      "cell_type": "markdown",
      "source": [
        "# Aritmatika Dasar dengan Numpy"
      ],
      "metadata": {
        "id": "ibSu8dw4TCE9"
      }
    },
    {
      "cell_type": "code",
      "source": [
        "# operasi penjumlahan arr dan arr_rdm\n",
        "# operasi pengurangan arr dan arr_rdm\n",
        "# operasi perpangkatan dua arr_rdm\n",
        "# operasi perkalian elemen-wise arr dan arr_rdm\n",
        "\n",
        "# Transpose matriks arr_rdm\n",
        "# operasi perkalian matriks arr dan arr_rdm"
      ],
      "metadata": {
        "id": "2gFgxZ6BSlr-"
      },
      "execution_count": null,
      "outputs": []
    },
    {
      "cell_type": "code",
      "source": [
        "# print nilai rata-rata arr\n",
        "# print nilai rata-rata per baris arr\n",
        "# print total nilai seluruh elemen matriks arr\n",
        "# print nilai maximal per kolom matriks arr"
      ],
      "metadata": {
        "id": "QK1uxmhmT7tj"
      },
      "execution_count": null,
      "outputs": []
    },
    {
      "cell_type": "markdown",
      "source": [
        "# Fitur pada Numpy"
      ],
      "metadata": {
        "id": "kHgUabu9V2AJ"
      }
    },
    {
      "cell_type": "code",
      "source": [
        "# buat array arrg dengan nilai range 1-20\n",
        "# print arrg\n",
        "# print nilai arrg index 5\n",
        "# print nilai arrg untuk 3 elemen dari terakhir\n",
        "# print nilai arrg 3 sampai 6"
      ],
      "metadata": {
        "id": "HxVt2zc1UdJD"
      },
      "execution_count": null,
      "outputs": []
    },
    {
      "cell_type": "code",
      "source": [
        "# print matriks arr\n",
        "# print slice matriks arr dengan output\n",
        "## [[ 2  3 ]\n",
        "##  [ 6  7 ]]\n",
        "\n",
        "# print slice matriks arr dengan output\n",
        "## [[ 3 ]\n",
        "##  [ 7 ]]"
      ],
      "metadata": {
        "id": "2mIKvlUyVR00"
      },
      "execution_count": null,
      "outputs": []
    },
    {
      "cell_type": "code",
      "source": [
        "# buat matriks mtx_rdm ukuran 3x4 dengan tipe data integer, isi elemennya random\n",
        "# print mtx_rdm shape\n",
        "# ubah shape mtx_rdm menjadi satu dimensi\n",
        "# ubah shape mtx_rdm menjadi 6x2"
      ],
      "metadata": {
        "id": "tlJfHEnRV57y"
      },
      "execution_count": null,
      "outputs": []
    }
  ],
  "metadata": {
    "anaconda-cloud": {},
    "kernelspec": {
      "display_name": "Python [Root]",
      "language": "python",
      "name": "Python [Root]"
    },
    "language_info": {
      "codemirror_mode": {
        "name": "ipython",
        "version": 3
      },
      "file_extension": ".py",
      "mimetype": "text/x-python",
      "name": "python",
      "nbconvert_exporter": "python",
      "pygments_lexer": "ipython3",
      "version": "3.5.2"
    },
    "colab": {
      "provenance": []
    }
  },
  "nbformat": 4,
  "nbformat_minor": 0
}